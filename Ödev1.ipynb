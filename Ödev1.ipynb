{
  "nbformat": 4,
  "nbformat_minor": 0,
  "metadata": {
    "colab": {
      "name": "Ödev1.ipynb",
      "provenance": [],
      "collapsed_sections": [],
      "authorship_tag": "ABX9TyMubTbx+/Ut/t/x9g+awu11",
      "include_colab_link": true
    },
    "kernelspec": {
      "name": "python3",
      "display_name": "Python 3"
    },
    "language_info": {
      "name": "python"
    }
  },
  "cells": [
    {
      "cell_type": "markdown",
      "metadata": {
        "id": "view-in-github",
        "colab_type": "text"
      },
      "source": [
        "<a href=\"https://colab.research.google.com/github/MOHAMMEDSAFAULDEEN/Probability/blob/main/%C3%96dev1.ipynb\" target=\"_parent\"><img src=\"https://colab.research.google.com/assets/colab-badge.svg\" alt=\"Open In Colab\"/></a>"
      ]
    },
    {
      "cell_type": "markdown",
      "metadata": {
        "id": "inO_fkQtKzGk"
      },
      "source": [
        ""
      ]
    },
    {
      "cell_type": "markdown",
      "metadata": {
        "id": "tJpyKOjdK3EU"
      },
      "source": [
        "Ödev 1: Kombinasyon olasılık ve Python codu ile çözün.\n",
        "\n",
        "Soru :\n",
        "\n",
        "3 harflik bir dizi arasında iki harfin kombinasyonlarını değiştirmeden bulmanın kaç farklı yolu (a, b, c).\n",
        "\n",
        "Çözüm : \n",
        "\n",
        "Dizi üç farklı harf içeriyor ve bu diziden 2 harf kombinasyonu seçiyoruz. Bu nedenle, 3C2 = 3, kombinasyonlar değiştirilmeden mümkündür.  \n",
        "\n",
        "           \n",
        "             C(x,r) = C(3,2)\n",
        "             = 3! / (2!(3−2)!)\n",
        "             = 3 \n",
        "\n"
      ]
    },
    {
      "cell_type": "code",
      "metadata": {
        "colab": {
          "base_uri": "https://localhost:8080/"
        },
        "id": "f8dWi-6KGCM3",
        "outputId": "03f764a6-9e28-4391-eab0-8063127e539d"
      },
      "source": [
        "#Importing combinations module from itertools python package\n",
        "from itertools import combinations\n",
        "\n",
        "#Define Sequence to find its combinations\n",
        "sequence = ['a','b','c']\n",
        "\n",
        "#Applying combinations method with the length of each permutation set to be 2\n",
        "combinations = combinations(sequence, 2)\n",
        "\n",
        "#combinations Interable Object\n",
        "print(combinations)\n",
        "\n",
        "#Loop Through using For Loop\n",
        "for combination in combinations:\n",
        "    print(combination)"
      ],
      "execution_count": 2,
      "outputs": [
        {
          "output_type": "stream",
          "text": [
            "<itertools.combinations object at 0x7f479ab27170>\n",
            "('a', 'b')\n",
            "('a', 'c')\n",
            "('b', 'c')\n"
          ],
          "name": "stdout"
        }
      ]
    }
  ]
}