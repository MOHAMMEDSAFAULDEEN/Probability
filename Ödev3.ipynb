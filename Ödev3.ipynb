{
  "nbformat": 4,
  "nbformat_minor": 0,
  "metadata": {
    "colab": {
      "name": "Ödev3.ipynb",
      "provenance": [],
      "collapsed_sections": [],
      "authorship_tag": "ABX9TyP0jbbx9kme9f9004dWh2Dp",
      "include_colab_link": true
    },
    "kernelspec": {
      "name": "python3",
      "display_name": "Python 3"
    },
    "language_info": {
      "name": "python"
    }
  },
  "cells": [
    {
      "cell_type": "markdown",
      "metadata": {
        "id": "view-in-github",
        "colab_type": "text"
      },
      "source": [
        "<a href=\"https://colab.research.google.com/github/MOHAMMEDSAFAULDEEN/Probability/blob/main/%C3%96dev3.ipynb\" target=\"_parent\"><img src=\"https://colab.research.google.com/assets/colab-badge.svg\" alt=\"Open In Colab\"/></a>"
      ]
    },
    {
      "cell_type": "markdown",
      "metadata": {
        "id": "G7D7TSYOMmPB"
      },
      "source": [
        "#Ödev 3 : Olasılık kütle fonksiyonu ve Python codu ile çözümn (PMF).\n",
        "\n",
        "## Soru :\n",
        "\n",
        "Bir zar sonsuz sayıda atıldığında, 1 alma olasılığı ve 2 alma olasılığı nedir ?\n",
        "\n",
        "# Not :\n",
        "\n",
        "X'e zar atışının sonucuna karşılık gelen rastgele değişken adını veriyoruz. Bu nedenle, rastgele değişken x yalnızca aşağıdaki ayrık değerleri alabilir :\n",
        "\n",
        " 1, 2, 3, 4, 5 veya 6. Bu nedenle, ayrık bir rastgele değişkendir.\n",
        "\n",
        "## Çözüm :\n",
        "\n",
        "6 olası sonucumuz olduğundan ve bunlar yapılandırılabilir olduğundan, bu şu şekilde yazabileceğimiz anlamına gelir :\n",
        "\n",
        "$$ = P(X = 1) $$\n",
        "\n",
        "$$ = P(X = 2) $$\n",
        "\n",
        "$$ = P(X = 3) $$ \n",
        "\n",
        "$$ = P(X = 4) $$ \n",
        "\n",
        "$$ = P(X = 5) $$ \n",
        "\n",
        "$$ = P(X = 6) $$ \n",
        "\n",
        "$$ = 1/6 $$ \n",
        "\n",
        "\n",
        "\n",
        "\n",
        "\n",
        "![Screenshot 2021-04-29 162412.png](data:image/png;base64,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)\n",
        "\n",
        "\n"
      ]
    },
    {
      "cell_type": "code",
      "metadata": {
        "colab": {
          "base_uri": "https://localhost:8080/",
          "height": 279
        },
        "id": "36O25Ip_YR9_",
        "outputId": "3519bb1c-a370-49fa-bdb7-508890cc057d"
      },
      "source": [
        "import matplotlib.pyplot as plt\n",
        "num_throws = 10000\n",
        "outcomes = np.zeros(num_throws)\n",
        "for i in range(num_throws):\n",
        "    # let's roll the die\n",
        "    outcome = np.random.choice(['1', '2', '3', '4', '5', '6'])\n",
        "    outcomes[i] = outcome\n",
        "\n",
        "\n",
        "val, cnt = np.unique(outcomes, return_counts=True)\n",
        "prop = cnt / len(outcomes)\n",
        "\n",
        "# Now that we have rolled our die 10000 times, let's plot the \n",
        "\n",
        "plt.bar(val, prop)\n",
        "plt.ylabel(\"Probability\")\n",
        "plt.xlabel(\"Outcome\")\n",
        "plt.show()\n",
        "plt.close()"
      ],
      "execution_count": 16,
      "outputs": [
        {
          "output_type": "display_data",
          "data": {
            "image/png": "[encoded data removed]",
            "text/plain": [
              "<Figure size 432x288 with 1 Axes>"
            ]
          },
          "metadata": {
            "tags": [],
            "needs_background": "light"
          }
        }
      ]
    },
    {
      "cell_type": "markdown",
      "metadata": {
        "id": "pItmrj-hjMoM"
      },
      "source": [
        "Dağılımın tekdüze bir dağılım gibi göründüğünü ve her sonucun yaklaşık bir olasılığa sahip olduğunu görebiliriz. 1/6 (≈0.17)."
      ]
    }
  ]
}