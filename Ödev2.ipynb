{
  "nbformat": 4,
  "nbformat_minor": 0,
  "metadata": {
    "colab": {
      "name": "Ödev2.ipynb",
      "provenance": [],
      "collapsed_sections": [],
      "authorship_tag": "ABX9TyMdk9NsJfW/PVbjapSmU3L5",
      "include_colab_link": true
    },
    "kernelspec": {
      "name": "python3",
      "display_name": "Python 3"
    },
    "language_info": {
      "name": "python"
    }
  },
  "cells": [
    {
      "cell_type": "markdown",
      "metadata": {
        "id": "view-in-github",
        "colab_type": "text"
      },
      "source": [
        "<a href=\"https://colab.research.google.com/github/MOHAMMEDSAFAULDEEN/Probability/blob/main/%C3%96dev2.ipynb\" target=\"_parent\"><img src=\"https://colab.research.google.com/assets/colab-badge.svg\" alt=\"Open In Colab\"/></a>"
      ]
    },
    {
      "cell_type": "markdown",
      "metadata": {
        "id": "7fqncl1H29in"
      },
      "source": [
        "###Ödev 2 : Koşullu olasılık ve Python codu ile çözün.\n",
        "\n",
        "### Soru :\n",
        "\n",
        "Bir sivil havacılık firmasında o gün uçan uçakların bir sonraki gün için de planlanan uçuşlarda uçma olasılıkları hesaplanmaktadır. Bir uçağın bir sonraki gün uçma olasılığı %87 olduğu bilinmektedir. Uçuşları engelleyen en önemli faktörün hava koşulları olduğu bilinmektedir. Karlı havalarda bir uçağın uçma olasılığı %48 olduğu bilinmektedir. Bu bilgilere göre AIR-737 kodlu uçağın, meteorolojiden gelen sonraki günün karlı hava olma ihtimalinin %72 olduğu bilgisine rağmen uçmaktadır. Uçarken kar yağma olasılığı kaçtır?\n",
        "\n",
        "## Çözüm :\n",
        "\n",
        "* Uçağın bir sonraki gün uçma olasılığı\n",
        "$$ P(A) = 0.87 $$  \n",
        "* Bir sonraki günün karlı hava olma olasılığı \n",
        "$$ P(B) = 0.72 $$\n",
        "* Uçakların karlı havada uçma olasılığı  \n",
        "$$ P(A|B) = 0.48 $$ \n",
        "* Sonraki gün uçarken kar yağma olaslığı \n",
        "$$ P(B|A) = ? $$ \n",
        "* Bayes Teoremi\n",
        "$$ P(A|B) * P(B) = P(B|A) * P(A) $$ \n",
        "* Sonraki gün uçarken kar yağma olaslığı \n",
        "$$ P(B|A) = (P(A|B) * P(B)) / P(A)$$\n",
        "$$ P(B|A) =  0.3972 $$\n"
      ]
    },
    {
      "cell_type": "code",
      "metadata": {
        "colab": {
          "base_uri": "https://localhost:8080/"
        },
        "id": "zOrB6dVI28AQ",
        "outputId": "fc8b8c24-0832-4b0e-817d-2721ebe01dbd"
      },
      "source": [
        "import pylab\n",
        "\n",
        "def bayes(P_A=None, P_B=None, P_A_B=None, P_B_A=None):\n",
        "\t'''\n",
        "\t\tP(A|B) * P(B) = P(B|A) * P(A)\n",
        "\n",
        "\t\tFunction of Bayes theorem calculation. Function calculates \n",
        "\t\tempty arguments and return it.\n",
        "\n",
        "\t'''\n",
        "\tif P_A == None: \n",
        "\t\t'''\n",
        "\t\t\tP(A) = (P(A|B) * P(B)) / P(B|A)\n",
        "\t\t'''\n",
        "\t\treturn (P_A_B * P_B) / P_B_A\t\n",
        "\telif P_B == None:\n",
        "\t\t'''\n",
        "\t\t\tP(B) = (P(B|A) * P(A)) / P(A|B)\n",
        "\t\t'''\n",
        "\t\treturn (P_B_A * P_A) / P_A_B\n",
        "\telif P_A_B == None:\n",
        "\t\t'''\n",
        "\t\t\tP(A|B) = (P(B|A) * P(A)) / P(B)\n",
        "\t\t'''\n",
        "\t\treturn (P_B_A * P_A) / P_B\n",
        "\telif P_B_A == None:\n",
        "\t\t'''\n",
        "\t\t\tP(B|A) = (P(A|B) * P(B)) / P(A)\n",
        "\t\t'''\n",
        "\t\treturn (P_A_B * P_B) / P_A\n",
        "\t\t\n",
        "if __name__ == '__main__':\n",
        "\t\n",
        "\tP_A = 0.87 \n",
        "\n",
        "\tP_B = 0.72\n",
        "\n",
        "\tP_A_B = 0.48\n",
        "\n",
        "\tP_B_A = bayes(P_A, P_B, P_A_B)\n",
        "\n",
        "\tprint('The possibility of snowfall when flying the next day :', P_B_A)"
      ],
      "execution_count": 2,
      "outputs": [
        {
          "output_type": "stream",
          "text": [
            "The possibility of snowfall when flying the next day : 0.3972413793103448\n"
          ],
          "name": "stdout"
        }
      ]
    }
  ]
}